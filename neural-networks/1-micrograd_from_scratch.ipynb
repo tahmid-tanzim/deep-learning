{
 "cells": [
  {
   "cell_type": "code",
   "execution_count": 1,
   "id": "initial_id",
   "metadata": {},
   "outputs": [],
   "source": [
    "import math\n",
    "import numpy as np\n",
    "import matplotlib.pyplot as plt\n",
    "%matplotlib inline"
   ]
  },
  {
   "cell_type": "code",
   "execution_count": 2,
   "id": "0e001065-5aac-4520-8981-3bba1052dcd0",
   "metadata": {},
   "outputs": [],
   "source": [
    "# A simple quadratic function\n",
    "def f(x):\n",
    "    return 3*x**2 - 4*x + 5"
   ]
  },
  {
   "cell_type": "code",
   "execution_count": 3,
   "id": "f3d5e73b-d850-444d-bde2-7d9487757e71",
   "metadata": {},
   "outputs": [
    {
     "data": {
      "text/plain": [
       "[<matplotlib.lines.Line2D at 0x107f6f260>]"
      ]
     },
     "execution_count": 3,
     "metadata": {},
     "output_type": "execute_result"
    },
    {
     "data": {
      "image/png": "[encoded data removed]",
      "text/plain": [
       "<Figure size 640x480 with 1 Axes>"
      ]
     },
     "metadata": {},
     "output_type": "display_data"
    }
   ],
   "source": [
    "xs = np.arange(-5.0, 5.25, 0.25)\n",
    "ys = f(xs)\n",
    "plt.plot(xs, ys)"
   ]
  },
  {
   "cell_type": "code",
   "execution_count": 4,
   "id": "91c31080-814a-4d5d-8f68-e7800970415d",
   "metadata": {},
   "outputs": [],
   "source": [
    "class Value:\n",
    "    def __init__(self, data, _children=(), _operations=''):\n",
    "        self.data = data\n",
    "        self._prev = set(_children)\n",
    "        self._operations = _operations\n",
    "    \n",
    "    def __repr__(self):\n",
    "        return f\"Value(data={self.data})\"\n",
    "\n",
    "    def __add__(self, val):\n",
    "        return Value(self.data + val.data, (self, val), '+')\n",
    "\n",
    "    def __mul__(self, val):\n",
    "        return Value(self.data * val.data, (self, val), '*')\n"
   ]
  },
  {
   "cell_type": "code",
   "execution_count": 5,
   "id": "61183c07-e1cf-48dd-8faf-103a3d711424",
   "metadata": {},
   "outputs": [
    {
     "data": {
      "text/plain": [
       "({Value(data=-6.0), Value(data=10.0)}, '+')"
      ]
     },
     "execution_count": 5,
     "metadata": {},
     "output_type": "execute_result"
    }
   ],
   "source": [
    "a = Value(2.0)\n",
    "b = Value(-3.0)\n",
    "c = Value(10.0)\n",
    "\n",
    "d = a * b + c\n",
    "d._prev, d._operations"
   ]
  },
  {
   "cell_type": "code",
   "execution_count": 7,
   "id": "2207156b-9493-4f7c-99ff-f97a9884aaa8",
   "metadata": {},
   "outputs": [],
   "source": [
    "from graphviz import Digraph\n",
    "\n",
    "def trace(root):\n",
    "  # builds a set of all nodes and edges in a graph\n",
    "  nodes, edges = set(), set()\n",
    "  def build(v):\n",
    "    if v not in nodes:\n",
    "      nodes.add(v)\n",
    "      for child in v._prev:\n",
    "        edges.add((child, v))\n",
    "        build(child)\n",
    "  build(root)\n",
    "  return nodes, edges\n",
    "\n",
    "def draw_dot(root):\n",
    "  dot = Digraph(format='svg', graph_attr={'rankdir': 'LR'}) # LR = left to right\n",
    "  \n",
    "  nodes, edges = trace(root)\n",
    "  for n in nodes:\n",
    "    uid = str(id(n))\n",
    "    # for any value in the graph, create a rectangular ('record') node for it\n",
    "    dot.node(name = uid, label = \"{ data %.4f }\" % (n.data,), shape='record')\n",
    "    if n._operations:\n",
    "      # if this value is a result of some operation, create an op node for it\n",
    "      dot.node(name = uid + n._operations, label = n._operations)\n",
    "      # and connect this node to it\n",
    "      dot.edge(uid + n._operations, uid)\n",
    "\n",
    "  for n1, n2 in edges:\n",
    "    # connect n1 to the op node of n2\n",
    "    dot.edge(str(id(n1)), str(id(n2)) + n2._operations)\n",
    "\n",
    "  return dot"
   ]
  },
  {
   "cell_type": "code",
   "execution_count": 8,
   "id": "7c17e424-509d-4c46-bbc4-25eabf9efc4c",
   "metadata": {},
   "outputs": [
    {
     "data": {
      "image/svg+xml": [
       "<?xml version=\"1.0\" encoding=\"UTF-8\" standalone=\"no\"?>\n",
       "<!DOCTYPE svg PUBLIC \"-//W3C//DTD SVG 1.1//EN\"\n",
       " \"http://www.w3.org/Graphics/SVG/1.1/DTD/svg11.dtd\">\n",
       "<!-- Generated by graphviz version 13.1.1 (20250719.2154)\n",
       " -->\n",
       "<!-- Pages: 1 -->\n",
       "<svg width=\"511pt\" height=\"127pt\"\n",
       " viewBox=\"0.00 0.00 511.00 127.00\" xmlns=\"http://www.w3.org/2000/svg\" xmlns:xlink=\"http://www.w3.org/1999/xlink\">\n",
       "<g id=\"graph0\" class=\"graph\" transform=\"scale(1 1) rotate(0) translate(4 123)\">\n",
       "<polygon fill=\"white\" stroke=\"none\" points=\"-4,4 -4,-123 506.5,-123 506.5,4 -4,4\"/>\n",
       "<!-- 4428758048 -->\n",
       "<g id=\"node1\" class=\"node\">\n",
       "<title>4428758048</title>\n",
       "<polygon fill=\"none\" stroke=\"black\" points=\"210.25,-82.5 210.25,-118.5 296.75,-118.5 296.75,-82.5 210.25,-82.5\"/>\n",
       "<text xml:space=\"preserve\" text-anchor=\"middle\" x=\"253.5\" y=\"-95.7\" font-family=\"Times,serif\" font-size=\"14.00\">data 10.0000</text>\n",
       "</g>\n",
       "<!-- 4428358112+ -->\n",
       "<g id=\"node3\" class=\"node\">\n",
       "<title>4428358112+</title>\n",
       "<ellipse fill=\"none\" stroke=\"black\" cx=\"359.75\" cy=\"-72.5\" rx=\"27\" ry=\"18\"/>\n",
       "<text xml:space=\"preserve\" text-anchor=\"middle\" x=\"359.75\" y=\"-67.45\" font-family=\"Times,serif\" font-size=\"14.00\">+</text>\n",
       "</g>\n",
       "<!-- 4428758048&#45;&gt;4428358112+ -->\n",
       "<g id=\"edge5\" class=\"edge\">\n",
       "<title>4428758048&#45;&gt;4428358112+</title>\n",
       "<path fill=\"none\" stroke=\"black\" d=\"M297.2,-89.03C305.86,-86.7 314.88,-84.28 323.26,-82.03\"/>\n",
       "<polygon fill=\"black\" stroke=\"black\" points=\"323.98,-85.46 332.73,-79.49 322.17,-78.7 323.98,-85.46\"/>\n",
       "</g>\n",
       "<!-- 4428358112 -->\n",
       "<g id=\"node2\" class=\"node\">\n",
       "<title>4428358112</title>\n",
       "<polygon fill=\"none\" stroke=\"black\" points=\"422.75,-54.5 422.75,-90.5 502.5,-90.5 502.5,-54.5 422.75,-54.5\"/>\n",
       "<text xml:space=\"preserve\" text-anchor=\"middle\" x=\"462.62\" y=\"-67.7\" font-family=\"Times,serif\" font-size=\"14.00\">data 4.0000</text>\n",
       "</g>\n",
       "<!-- 4428358112+&#45;&gt;4428358112 -->\n",
       "<g id=\"edge1\" class=\"edge\">\n",
       "<title>4428358112+&#45;&gt;4428358112</title>\n",
       "<path fill=\"none\" stroke=\"black\" d=\"M386.99,-72.5C394.46,-72.5 402.85,-72.5 411.24,-72.5\"/>\n",
       "<polygon fill=\"black\" stroke=\"black\" points=\"411.08,-76 421.08,-72.5 411.08,-69 411.08,-76\"/>\n",
       "</g>\n",
       "<!-- 4428756128 -->\n",
       "<g id=\"node4\" class=\"node\">\n",
       "<title>4428756128</title>\n",
       "<polygon fill=\"none\" stroke=\"black\" points=\"211.38,-27.5 211.38,-63.5 295.62,-63.5 295.62,-27.5 211.38,-27.5\"/>\n",
       "<text xml:space=\"preserve\" text-anchor=\"middle\" x=\"253.5\" y=\"-40.7\" font-family=\"Times,serif\" font-size=\"14.00\">data &#45;6.0000</text>\n",
       "</g>\n",
       "<!-- 4428756128&#45;&gt;4428358112+ -->\n",
       "<g id=\"edge3\" class=\"edge\">\n",
       "<title>4428756128&#45;&gt;4428358112+</title>\n",
       "<path fill=\"none\" stroke=\"black\" d=\"M296,-56.25C305,-58.58 314.45,-61.03 323.19,-63.29\"/>\n",
       "<polygon fill=\"black\" stroke=\"black\" points=\"322.18,-66.64 332.73,-65.76 323.93,-59.87 322.18,-66.64\"/>\n",
       "</g>\n",
       "<!-- 4428756128* -->\n",
       "<g id=\"node5\" class=\"node\">\n",
       "<title>4428756128*</title>\n",
       "<ellipse fill=\"none\" stroke=\"black\" cx=\"147.25\" cy=\"-45.5\" rx=\"27\" ry=\"18\"/>\n",
       "<text xml:space=\"preserve\" text-anchor=\"middle\" x=\"147.25\" y=\"-40.45\" font-family=\"Times,serif\" font-size=\"14.00\">*</text>\n",
       "</g>\n",
       "<!-- 4428756128*&#45;&gt;4428756128 -->\n",
       "<g id=\"edge2\" class=\"edge\">\n",
       "<title>4428756128*&#45;&gt;4428756128</title>\n",
       "<path fill=\"none\" stroke=\"black\" d=\"M174.56,-45.5C182.27,-45.5 191,-45.5 199.75,-45.5\"/>\n",
       "<polygon fill=\"black\" stroke=\"black\" points=\"199.67,-49 209.67,-45.5 199.67,-42 199.67,-49\"/>\n",
       "</g>\n",
       "<!-- 4428755696 -->\n",
       "<g id=\"node6\" class=\"node\">\n",
       "<title>4428755696</title>\n",
       "<polygon fill=\"none\" stroke=\"black\" points=\"0,-55.5 0,-91.5 84.25,-91.5 84.25,-55.5 0,-55.5\"/>\n",
       "<text xml:space=\"preserve\" text-anchor=\"middle\" x=\"42.12\" y=\"-68.7\" font-family=\"Times,serif\" font-size=\"14.00\">data &#45;3.0000</text>\n",
       "</g>\n",
       "<!-- 4428755696&#45;&gt;4428756128* -->\n",
       "<g id=\"edge6\" class=\"edge\">\n",
       "<title>4428755696&#45;&gt;4428756128*</title>\n",
       "<path fill=\"none\" stroke=\"black\" d=\"M84.48,-62.27C93.18,-59.91 102.29,-57.43 110.76,-55.14\"/>\n",
       "<polygon fill=\"black\" stroke=\"black\" points=\"111.62,-58.53 120.35,-52.53 109.78,-51.77 111.62,-58.53\"/>\n",
       "</g>\n",
       "<!-- 4428757472 -->\n",
       "<g id=\"node7\" class=\"node\">\n",
       "<title>4428757472</title>\n",
       "<polygon fill=\"none\" stroke=\"black\" points=\"2.25,-0.5 2.25,-36.5 82,-36.5 82,-0.5 2.25,-0.5\"/>\n",
       "<text xml:space=\"preserve\" text-anchor=\"middle\" x=\"42.12\" y=\"-13.7\" font-family=\"Times,serif\" font-size=\"14.00\">data 2.0000</text>\n",
       "</g>\n",
       "<!-- 4428757472&#45;&gt;4428756128* -->\n",
       "<g id=\"edge4\" class=\"edge\">\n",
       "<title>4428757472&#45;&gt;4428756128*</title>\n",
       "<path fill=\"none\" stroke=\"black\" d=\"M82.41,-28.78C91.69,-31.22 101.54,-33.79 110.65,-36.18\"/>\n",
       "<polygon fill=\"black\" stroke=\"black\" points=\"109.68,-39.54 120.24,-38.69 111.45,-32.77 109.68,-39.54\"/>\n",
       "</g>\n",
       "</g>\n",
       "</svg>\n"
      ],
      "text/plain": [
       "<graphviz.graphs.Digraph at 0x107fd7170>"
      ]
     },
     "execution_count": 8,
     "metadata": {},
     "output_type": "execute_result"
    }
   ],
   "source": [
    "draw_dot(d)"
   ]
  },
  {
   "cell_type": "code",
   "execution_count": null,
   "id": "3511f75d-9ab6-44e9-97bf-6b6b9c69b609",
   "metadata": {},
   "outputs": [],
   "source": []
  }
 ],
 "metadata": {
  "kernelspec": {
   "display_name": "Python 3 (ipykernel)",
   "language": "python",
   "name": "python3"
  },
  "language_info": {
   "codemirror_mode": {
    "name": "ipython",
    "version": 3
   },
   "file_extension": ".py",
   "mimetype": "text/x-python",
   "name": "python",
   "nbconvert_exporter": "python",
   "pygments_lexer": "ipython3",
   "version": "3.12.0"
  }
 },
 "nbformat": 4,
 "nbformat_minor": 5
}
